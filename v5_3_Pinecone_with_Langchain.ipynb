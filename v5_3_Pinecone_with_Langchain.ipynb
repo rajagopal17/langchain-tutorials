{
  "cells": [
    {
      "cell_type": "markdown",
      "metadata": {
        "id": "view-in-github",
        "colab_type": "text"
      },
      "source": [
        "<a href=\"https://colab.research.google.com/github/rajagopal17/langchain-tutorials/blob/main/v5_3_Pinecone_with_Langchain.ipynb\" target=\"_parent\"><img src=\"https://colab.research.google.com/assets/colab-badge.svg\" alt=\"Open In Colab\"/></a>"
      ]
    },
    {
      "cell_type": "code",
      "execution_count": null,
      "metadata": {
        "id": "RPhCypdHlFyN"
      },
      "outputs": [],
      "source": [
        "#install Pincecone, Langchain, openai & pypdf\n",
        "!pip install pinecone-client\n",
        "!pip -q install langchain\n",
        "!pip install openai\n",
        "!pip -q install pypdf unstructured[local-inference]\n",
        "\n",
        "import os\n",
        "import pinecone\n",
        "import pandas as pd\n",
        "import numpy as np\n",
        "\n",
        "#API keys for openai\n",
        "OPEN_API_KEY                      = \"XXXXXXXXXXXXXXXXXXXX\" \n",
        "os.environ['OPENAI_API_KEY']      = OPEN_API_KEY\n",
        "\n",
        "#API keys for Pinecone\n",
        "PINE_API_KEY                      =\"XXXXXXXXXXXXXXXXXXXXXXXXXX\"\n",
        "pinecone.init(api_key= PINE_API_KEY, environment=\"us-west1-gcp-free\")\n",
        "\n",
        "#import Langchain libraries\n",
        "from langchain.vectorstores import Pinecone\n",
        "from langchain.embeddings.openai import OpenAIEmbeddings\n",
        "embeddings = OpenAIEmbeddings(model=\"text-embedding-ada-002\")\n"
      ]
    },
    {
      "cell_type": "markdown",
      "metadata": {
        "id": "hZO0RS-F_zEV"
      },
      "source": [
        "#Install langchain document loader libraries"
      ]
    },
    {
      "cell_type": "code",
      "execution_count": 2,
      "metadata": {
        "id": "cA52UKKPCeiH"
      },
      "outputs": [],
      "source": [
        "from langchain.document_loaders import TextLoader\n",
        "from langchain.document_loaders import DirectoryLoader\n",
        "from langchain.document_loaders import PyPDFLoader\n",
        "from langchain.document_loaders import UnstructuredFileLoader\n",
        "from langchain.document_loaders import PagedPDFSplitter\n",
        "from langchain.document_loaders import UnstructuredPDFLoader\n",
        "\n",
        "\n",
        "import locale\n",
        "def getpreferredencoding(do_setlocale = True):\n",
        "    return \"UTF-8\"\n",
        "locale.getpreferredencoding = getpreferredencoding"
      ]
    },
    {
      "cell_type": "markdown",
      "source": [
        "#Extract text data from all the pdf files in the folder"
      ],
      "metadata": {
        "id": "35L6OxpLs0bv"
      }
    },
    {
      "cell_type": "code",
      "execution_count": 12,
      "metadata": {
        "colab": {
          "base_uri": "https://localhost:8080/"
        },
        "id": "8kNcEAQt_57c",
        "outputId": "7c4d5426-30a2-4d74-8b4f-f8b9aa3dd462"
      },
      "outputs": [
        {
          "output_type": "execute_result",
          "data": {
            "text/plain": [
              "['/content/drive/MyDrive/Python/SAPDOCS/S4F41_Cash Management.pdf',\n",
              " '/content/drive/MyDrive/Python/SAPDOCS/S4F50_Process in TRM.pdf',\n",
              " '/content/drive/MyDrive/Python/SAPDOCS/S4F51_Customizations in TRM.pdf',\n",
              " '/content/drive/MyDrive/Python/SAPDOCS/4 HANA - Practical Guide to SAP Business Partner .pdf',\n",
              " '/content/drive/MyDrive/Python/SAPDOCS/Copy of FixedAssets.pdf']"
            ]
          },
          "metadata": {},
          "execution_count": 12
        }
      ],
      "source": [
        "root_dir=\"/content/drive/MyDrive/Python\"\n",
        "pdf_folder_path=f'{root_dir}/SAPDOCS/'\n",
        "pdf_list=os.listdir(pdf_folder_path)\n",
        "pdf_path_list =[os.path.join(pdf_folder_path,i) for i in pdf_list]\n",
        "pdf_path_list\n"
      ]
    },
    {
      "cell_type": "code",
      "execution_count": 13,
      "metadata": {
        "id": "Od0CWW8XNlOk",
        "colab": {
          "base_uri": "https://localhost:8080/"
        },
        "outputId": "8f0e468a-63d8-4268-8a01-c0e14bad8ae1"
      },
      "outputs": [
        {
          "output_type": "stream",
          "name": "stderr",
          "text": [
            "[nltk_data] Downloading package punkt to /root/nltk_data...\n",
            "[nltk_data]   Unzipping tokenizers/punkt.zip.\n",
            "[nltk_data] Downloading package averaged_perceptron_tagger to\n",
            "[nltk_data]     /root/nltk_data...\n",
            "[nltk_data]   Unzipping taggers/averaged_perceptron_tagger.zip.\n"
          ]
        }
      ],
      "source": [
        "loader=[UnstructuredPDFLoader(pdf_path_list[i]).load() for i in range(0,len(pdf_path_list))]\n",
        "loader_summary=[loader[i][0]for i in range(len(loader))]"
      ]
    },
    {
      "cell_type": "code",
      "execution_count": null,
      "metadata": {
        "id": "W8cfuPykCtWr"
      },
      "outputs": [],
      "source": [
        "from langchain.text_splitter import CharacterTextSplitter,RecursiveCharacterTextSplitter\n",
        "\n",
        "text_splitter  = RecursiveCharacterTextSplitter(chunk_size=800, chunk_overlap=20)\n",
        "pdf_text       = text_splitter.split_documents(loader_summary)#this clean text is used to upload to summarization jobs\n"
      ]
    },
    {
      "cell_type": "code",
      "source": [
        "pdf_text"
      ],
      "metadata": {
        "id": "5L_4brn-SvJn"
      },
      "execution_count": null,
      "outputs": []
    },
    {
      "cell_type": "code",
      "source": [
        "pdf_text[0].page_content"
      ],
      "metadata": {
        "colab": {
          "base_uri": "https://localhost:8080/",
          "height": 122
        },
        "id": "E7XV0031y34c",
        "outputId": "cf3e3146-9149-487c-f0d3-8a65837ced49"
      },
      "execution_count": null,
      "outputs": [
        {
          "output_type": "execute_result",
          "data": {
            "text/plain": [
              "'S4F41\\n\\nImplementing Cash Management in SAP S/4HANA\\n\\n.\\n\\n.\\n\\n.\\n\\nPARTICIPANT HANDBOOK INSTRUCTOR\\n\\n\\n\\nLED TRAINING\\n\\nCourse Duration: 5 Day(s)\\n\\nSAP Copyrights, Trademarks and Disclaimers\\n\\n© 2020 SAP SE or an SAP affiliate company. All rights reserved.\\n\\nNo part of this publication may be reproduced or transmitted in any form or for any purpose without the express permission of SAP SE or an SAP affiliate company.\\n\\nSAP and other SAP products and services mentioned herein as well as their respective logos are trademarks or registered trademarks of SAP SE (or an SAP affiliate company) in Germany and other countries. Please see http://global12.sap.com/corporate-en/legal/copyright/index.epx for additional trademark information and notices.'"
            ],
            "application/vnd.google.colaboratory.intrinsic+json": {
              "type": "string"
            }
          },
          "metadata": {},
          "execution_count": 111
        }
      ]
    },
    {
      "cell_type": "markdown",
      "source": [
        "#Create Index in Pinecone "
      ],
      "metadata": {
        "id": "f2-TKds9tFcX"
      }
    },
    {
      "cell_type": "code",
      "source": [
        "#First delete the existing index\n",
        "#pinecone.delete_index('reviews-index-ai')\n",
        "\n",
        "#Create a new index in Pinecone\n",
        "#pinecone.create_index(\"sapdocs-hana\",dimension=1536)\n",
        "\n",
        "#optional code to check if index exists in Pinecone\n",
        "index_name = 'sapdocs-hana'\n",
        "if index_name not in pinecone.list_indexes():\n",
        "    pinecone.create_index(index_name,dimension=1536, metric='cosine')\n",
        "else:\n",
        "  print(\"Index aleady exists\")\n"
      ],
      "metadata": {
        "colab": {
          "base_uri": "https://localhost:8080/"
        },
        "id": "Y2Km-Jh8caCE",
        "outputId": "f0ef62c3-d602-4e17-b7ac-72a87dce0978"
      },
      "execution_count": 3,
      "outputs": [
        {
          "output_type": "stream",
          "name": "stdout",
          "text": [
            "Index aleady exists\n"
          ]
        }
      ]
    },
    {
      "cell_type": "markdown",
      "source": [
        "#Create embeddings using Langchain to upload to Pinecone"
      ],
      "metadata": {
        "id": "ZdWjaQhWx7de"
      }
    },
    {
      "cell_type": "code",
      "source": [
        "!pip install tiktoken\n",
        "from langchain.vectorstores import Pinecone\n",
        "from langchain.embeddings import OpenAIEmbeddings\n",
        "embeds = OpenAIEmbeddings() #default model is ada-002\n",
        "                                    "
      ],
      "metadata": {
        "id": "QUNN7jekx5nY"
      },
      "execution_count": null,
      "outputs": []
    },
    {
      "cell_type": "code",
      "source": [
        "#Convert the file into embeddings using openai ada-002 model\n",
        "\n",
        "file_embeds = Pinecone.from_documents(documents=pdf_text,embedding=embeds,index_name=index_name)"
      ],
      "metadata": {
        "id": "_YQAQhv76JCJ"
      },
      "execution_count": null,
      "outputs": []
    },
    {
      "cell_type": "markdown",
      "source": [
        "#Query Pinecone database using Langchain & openai LLM"
      ],
      "metadata": {
        "id": "DYxdxvL81kXo"
      }
    },
    {
      "cell_type": "code",
      "source": [
        "from langchain.chains import RetrievalQA\n",
        "from langchain.llms import OpenAI\n",
        "\n",
        "fact_llm = OpenAI(temperature=0) #use openai llm to retrieve answers from vector database\n",
        "\n",
        "hana_retriever =RetrievalQA.from_chain_type(llm=fact_llm, chain_type=\"stuff\",retriever=file_embeds.as_retriever())\n",
        "                                            \n",
        "                                           "
      ],
      "metadata": {
        "id": "DtuTLyWS1rCf"
      },
      "execution_count": null,
      "outputs": []
    },
    {
      "cell_type": "code",
      "source": [
        "query='what is money market in SAP'\n",
        "hana_retriever.run(query)"
      ],
      "metadata": {
        "colab": {
          "base_uri": "https://localhost:8080/",
          "height": 53
        },
        "id": "7vuvuwmd2pIT",
        "outputId": "b501e03f-7717-4eec-ba3c-7f6e8d7dc15d"
      },
      "execution_count": null,
      "outputs": [
        {
          "output_type": "execute_result",
          "data": {
            "text/plain": [
              "' Money market in SAP is a type of financial instrument used to map money market transactions, which include different forms of interest calculations and repayments.'"
            ],
            "application/vnd.google.colaboratory.intrinsic+json": {
              "type": "string"
            }
          },
          "metadata": {},
          "execution_count": 115
        }
      ]
    },
    {
      "cell_type": "markdown",
      "source": [
        "#reload index for later use"
      ],
      "metadata": {
        "id": "uwnmuuni3cFd"
      }
    },
    {
      "cell_type": "code",
      "source": [
        "reload_index = pinecone.Index(\"sapdocs-hana\")#reload_index is used for xxxxxxx\n",
        "reload_docs = Pinecone.from_existing_index(\"sapdocs-hana\",embedding=embeds) #reload_docs can be used as retriever\n",
        "                                           "
      ],
      "metadata": {
        "id": "--gLnAXy3fFn"
      },
      "execution_count": 5,
      "outputs": []
    },
    {
      "cell_type": "code",
      "source": [
        "from langchain.chains import RetrievalQA\n",
        "from langchain.llms import OpenAI\n",
        "\n",
        "fact_llm = OpenAI(temperature=0) #use openai llm to retrieve answers from vector database\n",
        "\n",
        "get_retriever =RetrievalQA.from_chain_type(llm=fact_llm, \n",
        "                                            chain_type=\"stuff\",\n",
        "                                            retriever=reload_docs.as_retriever())\n",
        "\n",
        "query='what is process of inhouse cash in SAP'\n",
        "get_retriever.run(query)"
      ],
      "metadata": {
        "colab": {
          "base_uri": "https://localhost:8080/",
          "height": 105
        },
        "id": "s6M0WAWS6e1x",
        "outputId": "acb7c76d-3201-4d74-a45a-45e57b65bc1e"
      },
      "execution_count": 6,
      "outputs": [
        {
          "output_type": "execute_result",
          "data": {
            "text/plain": [
              "\" In-House Cash is SAP's in-house bank functionality. An up to five-character house bank ID is created to represent the bank, and an up to five-character house bank account ID is created to represent each bank account. The house bank ID is assigned to a company code. The Receivables Line Item Matching service for SAP Cash Application consists of two tasks: training jobs and inference jobs. Training jobs can be scheduled as part of the configuration steps or in transaction SM36, and inference jobs can be scheduled using Name as RFEBKA_AUTO_REPRO. SAP Cash Application is a cloud-based solution that leverages machine learning technology to provide matching prediction result based on historical data.\""
            ],
            "application/vnd.google.colaboratory.intrinsic+json": {
              "type": "string"
            }
          },
          "metadata": {},
          "execution_count": 6
        }
      ]
    },
    {
      "cell_type": "code",
      "source": [
        "reload_docs.similarity_search('intercompany transfer of asset',k=5)"
      ],
      "metadata": {
        "colab": {
          "base_uri": "https://localhost:8080/"
        },
        "id": "Czzaxblp6t3-",
        "outputId": "16ba627c-031d-4e00-8ee0-acb1b6ebf488"
      },
      "execution_count": 7,
      "outputs": [
        {
          "output_type": "execute_result",
          "data": {
            "text/plain": [
              "[Document(page_content='Intracompany and Intercompany Asset Transfer In Asset Accounting, SAP differentiates between two types of transfer, intracompany and intercompany asset transfer:\\n\\n\\n\\n\\n\\nIntracompany asset transfer: a sending asset (or component of an asset) is transferred to a target asset within a single company code, for example, if the asset was created in the wrong asset class.\\n\\nIntercompany asset transfer: a sending asset (or component of an asset) is transferred to a target asset that is assigned to a different company code.\\n\\nYou can post both of these types of transfer either automatically (retirement and acquisition posted in one step) or manually (retirement and acquisition posted in two separate steps).', metadata={'source': '/content/drive/MyDrive/Python/SAPDOCS/Copy of FixedAssets.pdf'}),\n",
              " Document(page_content='An intercompany asset transfer within a corporate group may be necessary for one of the following reasons:\\n\\nThe physical location of the asset has changed, making it necessary to assign the asset to a\\n\\nnew company code.\\n\\nThe organizational structure of the corporate group has changed, requiring you to reassign\\n\\nthe asset to a different company code.\\n\\nFeatures\\n\\nIt is not possible to change the organizational assignment of the asset by changing the asset master record. For each asset that you want to transfer, you have to create a new master record in the target company code, or you use an existing asset master record. The unique identity of the asset is preserved using the inventory number in the asset master record.\\n\\nThere are three types of intercompany asset transfer:', metadata={'source': '/content/drive/MyDrive/Python/SAPDOCS/Copy of FixedAssets.pdf'}),\n",
              " Document(page_content='There are a number of Customizing settings that apply to both intercompany and to intracompany transfer transactions.\\n\\n446\\n\\nApril 2001\\n\\nSAP AG\\n\\nAsset Accounting (FI\\n\\n\\n\\nAA)\\n\\nIntracompany Asset Transfer\\n\\nIntracompany Asset Transfer\\n\\nUse\\n\\nUsing intracompany asset transfer, you transfer a fixed asset, or an asset component, to a different asset master record. The target asset has to be in the same company code as the sending asset. Intracompany transfer may be necessary for one of the following reasons:\\n\\nAn asset was created in the wrong asset class. Since you cannot change the asset class in\\n\\nthe asset master data, you have to transfer the asset to a new master record.\\n\\n\\n\\nYou split up an asset or move part of an asset (transfer from asset to asset).', metadata={'source': '/content/drive/MyDrive/Python/SAPDOCS/Copy of FixedAssets.pdf'}),\n",
              " Document(page_content='In the standard system, SAP assumes that transfers within the organizational unit company (relationship type 02) are treated as intracompany transfers and posting takes place using the gross method and intracompany transfer transaction types. Intercompany asset transfers between company IDs (relationship type 01), on the other hand, can be posted using the gross, net or new value method using retirement and acquisition transaction types. For more information, see Transfer Variants [Page 462] and the examples for intercompany asset transfer.\\n\\nIntegration\\n\\nThe relationship between company codes is also defined by whether or not they are affiliated companies:\\n\\n\\n\\n\\n\\nIf the two company codes belong to different companies (company IDs), then they are affiliated companies.', metadata={'source': '/content/drive/MyDrive/Python/SAPDOCS/Copy of FixedAssets.pdf'}),\n",
              " Document(page_content='It is a transfer within one client. You can post the retirement transfer and the acquisition transfer in one step (automatic intercompany transfer).\\n\\nIt is a transfer between two clients (automatic intercompany transfer). For this type of transfer, you can use ALE (Application Link Enabling) functions. Using these, a retirement is posted first in the sending company code, and then an asset acquisition is posted in the target company code. For more information, see the ALE Scenarios in Asset Accounting topic.', metadata={'source': '/content/drive/MyDrive/Python/SAPDOCS/Copy of FixedAssets.pdf'})]"
            ]
          },
          "metadata": {},
          "execution_count": 7
        }
      ]
    },
    {
      "cell_type": "code",
      "source": [
        "query1='what are the basic configurations for cash management'\n",
        "get_retriever.run(query1)"
      ],
      "metadata": {
        "colab": {
          "base_uri": "https://localhost:8080/",
          "height": 122
        },
        "id": "Dpou1rI3IIfc",
        "outputId": "bca2f799-4f3a-41a6-9255-2108b604e7cc"
      },
      "execution_count": 8,
      "outputs": [
        {
          "output_type": "execute_result",
          "data": {
            "text/plain": [
              "' The basic configurations for cash management include switching off the business function FIN_FSCM_CLM and selecting Basic Scope in the Customizing activity Define Basic Settings. Additionally, the basic cash management capability offers the following basic functions: Manage banks and house banks (only a subset of fields that are needed for enabling the payment process), define bank accounts and house bank accounts (only common attributes are supported), display bank accounts in a list view, import and export bank accounts, monitor cash positions and liquidity forecasts, manage memo records using the app or transactions FF63 and FF65, executing and tracking bank transfers and approval of bank payments using Bank Communication Management, and Bank Communication Management can use simplified payment signature setup in Bank Account Management.'"
            ],
            "application/vnd.google.colaboratory.intrinsic+json": {
              "type": "string"
            }
          },
          "metadata": {},
          "execution_count": 8
        }
      ]
    },
    {
      "cell_type": "markdown",
      "source": [
        "#Summarize data from Pinecone"
      ],
      "metadata": {
        "id": "fC64cHHrOGrm"
      }
    },
    {
      "cell_type": "code",
      "source": [
        "from langchain.chains.summarize import load_summarize_chain\n",
        "from langchain import PromptTemplate, LLMChain\n",
        "import textwrap"
      ],
      "metadata": {
        "id": "_RY4ZNcKOFo4"
      },
      "execution_count": 9,
      "outputs": []
    },
    {
      "cell_type": "code",
      "source": [
        "prompt_template = \"\"\"Write a concise bullet point summary regarding the cash management in SAP:\n",
        "\n",
        "{text}\n",
        "\n",
        "CONSCISE SUMMARY IN BULLET POINTS:\"\"\"\n",
        "\n",
        "select_POINT_PROMPT = PromptTemplate(template=prompt_template,input_variables=[\"text\"])\n",
        "\n",
        "\n",
        "chain = load_summarize_chain(fact_llm, chain_type=\"map_reduce\",map_prompt=select_POINT_PROMPT,combine_prompt=select_POINT_PROMPT) \n",
        "                             \n",
        "output_summary = chain.run(pdf_text)\n",
        "\n",
        "wrapped_text = textwrap.fill(output_summary, width=150, break_long_words=False,replace_whitespace=False)\n",
        "                                                       \n",
        "print(wrapped_text)"
      ],
      "metadata": {
        "id": "P5fX13huONGi"
      },
      "execution_count": null,
      "outputs": []
    }
  ],
  "metadata": {
    "colab": {
      "provenance": [],
      "mount_file_id": "1vkvOd5taojMrk6_eKjh2IqSNmDu5aq1S",
      "authorship_tag": "ABX9TyM/UIhjCaqLrF1NgTPpBWPQ",
      "include_colab_link": true
    },
    "kernelspec": {
      "display_name": "Python 3",
      "name": "python3"
    },
    "language_info": {
      "name": "python"
    }
  },
  "nbformat": 4,
  "nbformat_minor": 0
}
